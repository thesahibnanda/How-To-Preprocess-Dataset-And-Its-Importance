{
 "cells": [
  {
   "cell_type": "markdown",
   "id": "b078da5f",
   "metadata": {},
   "source": [
    "# Importing Required Libraries\n",
    "    \n",
    "    1. Math\n",
    "    2. Numpy\n",
    "    3. Pandas\n",
    "    4. Scikit-Learn"
   ]
  },
  {
   "cell_type": "code",
   "execution_count": 1,
   "id": "72dca0a0",
   "metadata": {},
   "outputs": [],
   "source": [
    "import math\n",
    "import numpy as np\n",
    "import pandas as pd\n",
    "from sklearn.linear_model import LinearRegression\n",
    "from sklearn.model_selection import train_test_split\n",
    "from sklearn.metrics import mean_squared_error\n",
    "from sklearn.metrics import r2_score"
   ]
  },
  {
   "cell_type": "markdown",
   "id": "acd7527e",
   "metadata": {},
   "source": [
    "# Importing CSV\n",
    "    Importing CSV Using Pandas"
   ]
  },
  {
   "cell_type": "code",
   "execution_count": 2,
   "id": "d474d89d",
   "metadata": {},
   "outputs": [
    {
     "name": "stdout",
     "output_type": "stream",
     "text": [
      "        RM  LSTAT  PTRATIO      MEDV\n",
      "0    6.575   4.98     15.3  504000.0\n",
      "1    6.421   9.14     17.8  453600.0\n",
      "2    7.185   4.03     17.8  728700.0\n",
      "3    6.998   2.94     18.7  701400.0\n",
      "4    7.147   5.33     18.7  760200.0\n",
      "..     ...    ...      ...       ...\n",
      "484  6.593   9.67     21.0  470400.0\n",
      "485  6.120   9.08     21.0  432600.0\n",
      "486  6.976   5.64     21.0  501900.0\n",
      "487  6.794   6.48     21.0  462000.0\n",
      "488  6.030   7.88     21.0  249900.0\n",
      "\n",
      "[489 rows x 4 columns]\n"
     ]
    }
   ],
   "source": [
    "df = pd.read_csv(\"housing.csv\")\n",
    "print(df)"
   ]
  },
  {
   "cell_type": "markdown",
   "id": "256135fd",
   "metadata": {},
   "source": [
    "# Designing The Model"
   ]
  },
  {
   "cell_type": "code",
   "execution_count": 3,
   "id": "2be860bc",
   "metadata": {},
   "outputs": [],
   "source": [
    "X = df[[\"RM\", \"LSTAT\", \"PTRATIO\"]]\n",
    "Y = df[[\"MEDV\"]]"
   ]
  },
  {
   "cell_type": "markdown",
   "id": "abe3ef88",
   "metadata": {},
   "source": [
    "# Train Test Split"
   ]
  },
  {
   "cell_type": "code",
   "execution_count": 4,
   "id": "d40b2bed",
   "metadata": {},
   "outputs": [],
   "source": [
    "xtrain, xtest, ytrain, ytest = train_test_split(X, Y, test_size = 0.3)"
   ]
  },
  {
   "cell_type": "markdown",
   "id": "2e7cb621",
   "metadata": {},
   "source": [
    "# Fitting Model"
   ]
  },
  {
   "cell_type": "code",
   "execution_count": 5,
   "id": "f22c844a",
   "metadata": {},
   "outputs": [],
   "source": [
    "reg = LinearRegression().fit(xtrain, ytrain,sample_weight=None)\n",
    "y_predicted = reg.predict(xtest)"
   ]
  },
  {
   "cell_type": "markdown",
   "id": "3dad6dfd",
   "metadata": {},
   "source": [
    "# R2 Score"
   ]
  },
  {
   "cell_type": "code",
   "execution_count": 6,
   "id": "ee8ab523",
   "metadata": {},
   "outputs": [
    {
     "name": "stdout",
     "output_type": "stream",
     "text": [
      "R^2 Score: 0.6545187111541619\n"
     ]
    }
   ],
   "source": [
    "print(\"R^2 Score:\", r2_score(ytest, y_predicted))"
   ]
  },
  {
   "cell_type": "markdown",
   "id": "e76b5e7f",
   "metadata": {},
   "source": [
    "# Adjusted R2 Score"
   ]
  },
  {
   "cell_type": "code",
   "execution_count": 7,
   "id": "7b2acff8",
   "metadata": {},
   "outputs": [
    {
     "name": "stdout",
     "output_type": "stream",
     "text": [
      "Adjusted R^2 Score: 0.652381713491198\n"
     ]
    }
   ],
   "source": [
    "Adj_r2 = 1 - (1-r2_score(ytest, y_predicted)) * (len(Y)-1)/(len(Y)-X.shape[1]-1)\n",
    "print(\"Adjusted R^2 Score:\", Adj_r2)"
   ]
  },
  {
   "cell_type": "markdown",
   "id": "ed1ff9fe",
   "metadata": {},
   "source": [
    "# Evaluation Metrics"
   ]
  },
  {
   "cell_type": "code",
   "execution_count": 8,
   "id": "4194bc15",
   "metadata": {},
   "outputs": [
    {
     "name": "stdout",
     "output_type": "stream",
     "text": [
      "Mean Squared Error:  8779959240.469185\n",
      "Root Mean Squared Error:  93701.4367044027\n",
      "SSR:  1290654008348.9702\n"
     ]
    }
   ],
   "source": [
    "MSE = mean_squared_error(ytest, y_predicted)\n",
    "print(\"Mean Squared Error: \", MSE)\n",
    "print(\"Root Mean Squared Error: \", math.sqrt(MSE))\n",
    "residual = ytest - y_predicted\n",
    "sum_squares_resid = np.sum(residual**2)\n",
    "print(\"SSR: \", sum_squares_resid.values[0])"
   ]
  }
 ],
 "metadata": {
  "kernelspec": {
   "display_name": "Python 3 (ipykernel)",
   "language": "python",
   "name": "python3"
  },
  "language_info": {
   "codemirror_mode": {
    "name": "ipython",
    "version": 3
   },
   "file_extension": ".py",
   "mimetype": "text/x-python",
   "name": "python",
   "nbconvert_exporter": "python",
   "pygments_lexer": "ipython3",
   "version": "3.11.0"
  }
 },
 "nbformat": 4,
 "nbformat_minor": 5
}
